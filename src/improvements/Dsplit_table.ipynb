{
 "cells": [
  {
   "cell_type": "code",
   "execution_count": 7,
   "metadata": {},
   "outputs": [],
   "source": [
    "from src.utils.project_dirs import dataset_group_hparamdf_dir\n",
    "import pandas as pd\n",
    "from src.utils.load_data import *"
   ]
  },
  {
   "cell_type": "code",
   "execution_count": 29,
   "metadata": {},
   "outputs": [
    {
     "data": {
      "text/plain": [
       "(364943, 999611)"
      ]
     },
     "execution_count": 29,
     "metadata": {},
     "output_type": "execute_result"
    }
   ],
   "source": [
    "df_rr_dict = load_data(dataset='retailrocket_views')\n",
    "df_ml_dict = load_data(dataset='ml1m')\n",
    "\n",
    "df_rr_dict['train'].shape[0] + df_rr_dict['val'].shape[0]+df_rr_dict['test'].shape[0],  \\\n",
    "df_ml_dict['train'].shape[0] + df_ml_dict['val'].shape[0]+df_ml_dict['test'].shape[0]"
   ]
  },
  {
   "cell_type": "code",
   "execution_count": 31,
   "metadata": {},
   "outputs": [
    {
     "data": {
      "text/html": [
       "<div>\n",
       "<style scoped>\n",
       "    .dataframe tbody tr th:only-of-type {\n",
       "        vertical-align: middle;\n",
       "    }\n",
       "\n",
       "    .dataframe tbody tr th {\n",
       "        vertical-align: top;\n",
       "    }\n",
       "\n",
       "    .dataframe thead th {\n",
       "        text-align: right;\n",
       "    }\n",
       "</style>\n",
       "<table border=\"1\" class=\"dataframe\">\n",
       "  <thead>\n",
       "    <tr style=\"text-align: right;\">\n",
       "      <th></th>\n",
       "      <th>dataset</th>\n",
       "      <th>users</th>\n",
       "      <th>items</th>\n",
       "      <th>interactions</th>\n",
       "    </tr>\n",
       "  </thead>\n",
       "  <tbody>\n",
       "    <tr>\n",
       "      <th>0</th>\n",
       "      <td>RR-views</td>\n",
       "      <td>22178</td>\n",
       "      <td>17803</td>\n",
       "      <td>364943</td>\n",
       "    </tr>\n",
       "    <tr>\n",
       "      <th>1</th>\n",
       "      <td>ML1m</td>\n",
       "      <td>6040</td>\n",
       "      <td>3416</td>\n",
       "      <td>999611</td>\n",
       "    </tr>\n",
       "  </tbody>\n",
       "</table>\n",
       "</div>"
      ],
      "text/plain": [
       "    dataset  users  items  interactions\n",
       "0  RR-views  22178  17803        364943\n",
       "1      ML1m   6040   3416        999611"
      ]
     },
     "execution_count": 31,
     "metadata": {},
     "output_type": "execute_result"
    }
   ],
   "source": [
    "df_rr = pd.concat([df_rr_dict['train'], df_rr_dict['val'], df_rr_dict['test']], ignore_index=True)\n",
    "rr_info = {'dataset':'RR-views', 'users':df_rr['user_id'].nunique(), 'items':df_rr['item_id'].nunique(), 'interactions':df_rr.shape[0]}\n",
    "df_ml = pd.concat([df_ml_dict['train'], df_ml_dict['val'], df_ml_dict['test']], ignore_index=True)\n",
    "ml_info = {'dataset':'ML1m', 'users':df_ml['user_id'].nunique(), 'items':df_ml['item_id'].nunique(), 'interactions':df_ml.shape[0]}\n",
    "\n",
    "pd.DataFrame([rr_info, ml_info])"
   ]
  },
  {
   "cell_type": "code",
   "execution_count": 27,
   "metadata": {},
   "outputs": [
    {
     "data": {
      "text/plain": [
       "(999611, 6040, 3416)"
      ]
     },
     "execution_count": 27,
     "metadata": {},
     "output_type": "execute_result"
    }
   ],
   "source": [
    "rr_info.update(ml_info)"
   ]
  },
  {
   "cell_type": "code",
   "execution_count": null,
   "metadata": {},
   "outputs": [],
   "source": []
  },
  {
   "cell_type": "code",
   "execution_count": 15,
   "metadata": {},
   "outputs": [
    {
     "ename": "AttributeError",
     "evalue": "'DataFrame' object has no attribute 'append'",
     "output_type": "error",
     "traceback": [
      "\u001b[0;31m---------------------------------------------------------------------------\u001b[0m",
      "\u001b[0;31mAttributeError\u001b[0m                            Traceback (most recent call last)",
      "\u001b[0;32m/tmp/ipykernel_14141/4037387.py\u001b[0m in \u001b[0;36m?\u001b[0;34m()\u001b[0m\n\u001b[0;32m----> 1\u001b[0;31m \u001b[0mdf_rr_dict\u001b[0m\u001b[0;34m[\u001b[0m\u001b[0;34m'train'\u001b[0m\u001b[0;34m]\u001b[0m\u001b[0;34m.\u001b[0m\u001b[0mappend\u001b[0m\u001b[0;34m(\u001b[0m\u001b[0mdf_rr_dict\u001b[0m\u001b[0;34m[\u001b[0m\u001b[0;34m'val'\u001b[0m\u001b[0;34m]\u001b[0m\u001b[0;34m,\u001b[0m \u001b[0mignore_index\u001b[0m\u001b[0;34m=\u001b[0m\u001b[0;32mTrue\u001b[0m\u001b[0;34m)\u001b[0m\u001b[0;34m\u001b[0m\u001b[0;34m\u001b[0m\u001b[0m\n\u001b[0m",
      "\u001b[0;32m~/miniconda3/envs/sasrec/lib/python3.12/site-packages/pandas/core/generic.py\u001b[0m in \u001b[0;36m?\u001b[0;34m(self, name)\u001b[0m\n\u001b[1;32m   6295\u001b[0m             \u001b[0;32mand\u001b[0m \u001b[0mname\u001b[0m \u001b[0;32mnot\u001b[0m \u001b[0;32min\u001b[0m \u001b[0mself\u001b[0m\u001b[0;34m.\u001b[0m\u001b[0m_accessors\u001b[0m\u001b[0;34m\u001b[0m\u001b[0;34m\u001b[0m\u001b[0m\n\u001b[1;32m   6296\u001b[0m             \u001b[0;32mand\u001b[0m \u001b[0mself\u001b[0m\u001b[0;34m.\u001b[0m\u001b[0m_info_axis\u001b[0m\u001b[0;34m.\u001b[0m\u001b[0m_can_hold_identifiers_and_holds_name\u001b[0m\u001b[0;34m(\u001b[0m\u001b[0mname\u001b[0m\u001b[0;34m)\u001b[0m\u001b[0;34m\u001b[0m\u001b[0;34m\u001b[0m\u001b[0m\n\u001b[1;32m   6297\u001b[0m         \u001b[0;34m)\u001b[0m\u001b[0;34m:\u001b[0m\u001b[0;34m\u001b[0m\u001b[0;34m\u001b[0m\u001b[0m\n\u001b[1;32m   6298\u001b[0m             \u001b[0;32mreturn\u001b[0m \u001b[0mself\u001b[0m\u001b[0;34m[\u001b[0m\u001b[0mname\u001b[0m\u001b[0;34m]\u001b[0m\u001b[0;34m\u001b[0m\u001b[0;34m\u001b[0m\u001b[0m\n\u001b[0;32m-> 6299\u001b[0;31m         \u001b[0;32mreturn\u001b[0m \u001b[0mobject\u001b[0m\u001b[0;34m.\u001b[0m\u001b[0m__getattribute__\u001b[0m\u001b[0;34m(\u001b[0m\u001b[0mself\u001b[0m\u001b[0;34m,\u001b[0m \u001b[0mname\u001b[0m\u001b[0;34m)\u001b[0m\u001b[0;34m\u001b[0m\u001b[0;34m\u001b[0m\u001b[0m\n\u001b[0m",
      "\u001b[0;31mAttributeError\u001b[0m: 'DataFrame' object has no attribute 'append'"
     ]
    }
   ],
   "source": [
    "df_rr_dict['train'].append(df_rr_dict['val'], ignore_index=True)"
   ]
  },
  {
   "cell_type": "code",
   "execution_count": 11,
   "metadata": {},
   "outputs": [
    {
     "data": {
      "text/plain": [
       "((332765, 3), (10000, 3), (22178, 3))"
      ]
     },
     "execution_count": 11,
     "metadata": {},
     "output_type": "execute_result"
    }
   ],
   "source": [
    "df_dict['train'].shape, df_dict['val'].shape, df_dict['test'].shape"
   ]
  },
  {
   "cell_type": "code",
   "execution_count": 5,
   "metadata": {},
   "outputs": [
    {
     "name": "stderr",
     "output_type": "stream",
     "text": [
      "/tmp/ipykernel_14141/2385442906.py:12: FutureWarning: DataFrame.applymap has been deprecated. Use DataFrame.map instead.\n",
      "  return df.applymap(lambda x: [round_value(num) for num in x])\n"
     ]
    },
    {
     "name": "stdout",
     "output_type": "stream",
     "text": [
      "\\begin{tabular}{|l|c|c|c|c|c|c|}\n",
      "\\hline \\toprule\n",
      "Row Names & G_popbal & G_pop2060 & G_pop1080 & G_seqbal & G_seq2060 & G_seq1080 \\\\\n",
      "\\midrule \\hline\n",
      "RR usplit & [40, 16, 44] & [27, 45, 28] & [15, 70, 15] & [75, 23, 3] & [55, 44, 0.43] & [34, 66, 0.09] \\\\\n",
      "RR dsplit & [33, 33, 33] & [20, 60, 20] & [10, 80, 10] & [33, 33, 33] & [20, 60, 20] & [10, 80, 10] \\\\\n",
      "ML usplit & [18, 28, 54] & [10, 52, 38] & [5, 71, 23] & [73, 19, 8] & [59, 37, 4] & [42, 57, 2] \\\\\n",
      "ML dsplit & [33, 33, 33] & [20, 60, 20] & [10, 80, 10] & [33, 33, 33] & [20, 60, 20] & [10, 80, 10] \\\\\n",
      "\\hline \\bottomrule\n",
      "\\end{tabular}\n",
      "\n"
     ]
    }
   ],
   "source": [
    "dfrr_info = load_ugmap_df(dataset='retailrocket_views', groups='dsplit_info')\n",
    "dfml_info = load_ugmap_df(dataset='ml1m', groups='dsplit_info')\n",
    "\n",
    "dfrr_info.columns = ['G_popbal','G_pop2060','G_pop1080','G_seqbal','G_seq2060','G_seq1080']\n",
    "dfml_info.columns = ['G_popbal','G_pop2060','G_pop1080','G_seqbal','G_seq2060','G_seq1080']\n",
    "\n",
    "# Function to convert to percentage and apply rounding rules\n",
    "def convert_to_percentage(df):\n",
    "    def round_value(num):\n",
    "        percent_value = num * 100\n",
    "        if percent_value >= 1:\n",
    "            return round(percent_value)  # Round to nearest integer if >= 1\n",
    "        else:\n",
    "            return round(percent_value, 2)  # Keep two decimal places if < 1\n",
    "    \n",
    "    return df.applymap(lambda x: [round_value(num) for num in x])\n",
    "\n",
    "# Convert both DataFrames to percentage\n",
    "dfrr_info = convert_to_percentage(dfrr_info)\n",
    "dfml_info = convert_to_percentage(dfml_info)\n",
    "\n",
    "# Merge the dataframes row-wise\n",
    "merged_df = pd.concat([dfrr_info, dfml_info], ignore_index=True)\n",
    "\n",
    "# Define the row names\n",
    "row_labels = ['RR usplit', 'RR dsplit', 'ML usplit', 'ML dsplit']\n",
    "\n",
    "# Insert the row labels as a new column in the merged dataframe\n",
    "merged_df.insert(0, 'Row Names', row_labels)\n",
    "\n",
    "# Generate the LaTeX code from the merged dataframe\n",
    "latex_code = merged_df.to_latex(index=False, header=True, column_format=\"|l|c|c|c|c|c|c|\", escape=False)\n",
    "\n",
    "# Modify the LaTeX string to include vertical lines and the horizontal line after the second row\n",
    "latex_code = latex_code.replace(r'\\toprule', r'\\hline \\toprule')  # Add initial top horizontal line\n",
    "latex_code = latex_code.replace(r'\\midrule', r'\\midrule \\hline')  # Add line after headers\n",
    "latex_code = latex_code.replace(r'\\\\\\midrule', r'\\\\ \\hline \\hline')  # Add extra line after RR dsplit\n",
    "latex_code = latex_code.replace(r'\\bottomrule', r'\\hline \\bottomrule')  # Add bottom horizontal line\n",
    "\n",
    "# Output the LaTeX code\n",
    "print(latex_code)\n"
   ]
  }
 ],
 "metadata": {
  "kernelspec": {
   "display_name": "sasrec",
   "language": "python",
   "name": "python3"
  },
  "language_info": {
   "codemirror_mode": {
    "name": "ipython",
    "version": 3
   },
   "file_extension": ".py",
   "mimetype": "text/x-python",
   "name": "python",
   "nbconvert_exporter": "python",
   "pygments_lexer": "ipython3",
   "version": "3.12.4"
  }
 },
 "nbformat": 4,
 "nbformat_minor": 2
}
